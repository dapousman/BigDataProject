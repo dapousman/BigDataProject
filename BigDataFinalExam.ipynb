{
  "nbformat": 4,
  "nbformat_minor": 0,
  "metadata": {
    "colab": {
      "name": "BigDataFinalExam.ipynb",
      "provenance": [],
      "authorship_tag": "ABX9TyOI1trosjnZ6nnKvwP4bF+l",
      "include_colab_link": true
    },
    "kernelspec": {
      "name": "python3",
      "display_name": "Python 3"
    },
    "language_info": {
      "name": "python"
    }
  },
  "cells": [
    {
      "cell_type": "markdown",
      "metadata": {
        "id": "view-in-github",
        "colab_type": "text"
      },
      "source": [
        "<a href=\"https://colab.research.google.com/github/dapousman/BigDataProject/blob/main/BigDataFinalExam.ipynb\" target=\"_parent\"><img src=\"https://colab.research.google.com/assets/colab-badge.svg\" alt=\"Open In Colab\"/></a>"
      ]
    },
    {
      "cell_type": "code",
      "execution_count": null,
      "metadata": {
        "id": "dciVGEv_BkUv"
      },
      "outputs": [],
      "source": [
        "!apt-get install openjdk-8-jdk-headless -qq > /dev/null\n",
        "!wget -q https://dlcdn.apache.org/spark/spark-3.2.1/spark-3.2.1-bin-hadoop3.2.tgz\n",
        "!tar xf spark-3.2.1-bin-hadoop3.2.tgz"
      ]
    },
    {
      "cell_type": "code",
      "source": [
        "import os\n",
        "os.environ[\"JAVA_HOME\"] = \"/usr/lib/jvm/java-8-openjdk-amd64\"\n",
        "os.environ[\"SPARK_HOME\"] = \"/content/spark-3.2.1-bin-hadoop3.2\""
      ],
      "metadata": {
        "id": "UdUPkR0ZDn-S"
      },
      "execution_count": null,
      "outputs": []
    },
    {
      "cell_type": "code",
      "source": [
        "!pip install -q findspark"
      ],
      "metadata": {
        "id": "GsnLG2A_Dp8H"
      },
      "execution_count": null,
      "outputs": []
    },
    {
      "cell_type": "code",
      "source": [
        "import findspark\n",
        "findspark.init()"
      ],
      "metadata": {
        "id": "NrUMBWGMD3E7"
      },
      "execution_count": null,
      "outputs": []
    },
    {
      "cell_type": "code",
      "source": [
        "from pyspark.sql import SparkSession\n",
        "spark = SparkSession.builder\\\n",
        "  .master(\"local\")\\\n",
        "  .appName(\"Colab\")\\\n",
        "  .config('spark.ui.port', '4050')\\\n",
        "  .getOrCreate()"
      ],
      "metadata": {
        "id": "XmH9pSHxD9b4"
      },
      "execution_count": null,
      "outputs": []
    },
    {
      "cell_type": "code",
      "source": [
        "from google.colab import drive\n",
        "\n",
        "drive.mount('/content/drive')"
      ],
      "metadata": {
        "colab": {
          "base_uri": "https://localhost:8080/"
        },
        "id": "cc_u8NQtKQbn",
        "outputId": "c1a3f948-dc62-40a7-a085-ab2c4f36d7ce"
      },
      "execution_count": null,
      "outputs": [
        {
          "output_type": "stream",
          "name": "stdout",
          "text": [
            "Mounted at /content/drive\n"
          ]
        }
      ]
    },
    {
      "cell_type": "code",
      "source": [
        "df = spark.read.format('com.databricks.spark.csv').options(header='true', inferschema='true').load(\"/content/drive/MyDrive/Big Data/Top 200 Highest Grossing Movies.csv\",header=True)"
      ],
      "metadata": {
        "id": "Ebn53XyoJnPZ"
      },
      "execution_count": null,
      "outputs": []
    },
    {
      "cell_type": "code",
      "source": [
        "df.show(10,False)"
      ],
      "metadata": {
        "colab": {
          "base_uri": "https://localhost:8080/"
        },
        "id": "jrDVyOK8LDa_",
        "outputId": "135daff1-24da-4547-b17b-8fab2fcf9e33"
      },
      "execution_count": null,
      "outputs": [
        {
          "output_type": "stream",
          "name": "stdout",
          "text": [
            "+----+------------------------------------------+---------------+----+\n",
            "|Rank|Title                                     |Lifetime Gross |Year|\n",
            "+----+------------------------------------------+---------------+----+\n",
            "|1   |Avatar                                    |$2,847,397,339 |2009|\n",
            "|2   |Avengers: Endgame                         |$2,797,501,328 |2019|\n",
            "|3   |Titanic                                   |$2,201,647,264 |1997|\n",
            "|4   |Star Wars: Episode VII - The Force Awakens|$2,069,521,700 |2015|\n",
            "|5   |Avengers: Infinity War                    |$2,048,359,754 |2018|\n",
            "|6   |Spider-Man: No Way Home                   |$1,901,218,408 |2021|\n",
            "|7   |Jurassic World                            |$1,671,537,444 |2015|\n",
            "|8   |The Lion King                             |$1,663,250,487 |2019|\n",
            "|9   |The Avengers                              |$1,518,815,515 |2012|\n",
            "|10  |Furious 7                                 |$1,515,341,399 |2015|\n",
            "+----+------------------------------------------+---------------+----+\n",
            "only showing top 10 rows\n",
            "\n"
          ]
        }
      ]
    },
    {
      "cell_type": "code",
      "source": [
        "df_filtered = df.filter(\"Year > 2010\")\n",
        "df_filtered.select(\"Title\", \"Year\", \"Lifetime Gross\").show(50, False)"
      ],
      "metadata": {
        "colab": {
          "base_uri": "https://localhost:8080/"
        },
        "id": "wfi8S2CDLeX9",
        "outputId": "a5200a1b-3bda-4983-fffe-b62636811c69"
      },
      "execution_count": null,
      "outputs": [
        {
          "output_type": "stream",
          "name": "stdout",
          "text": [
            "+---------------------------------------------+----+---------------+\n",
            "|Title                                        |Year|Lifetime Gross |\n",
            "+---------------------------------------------+----+---------------+\n",
            "|Avengers: Endgame                            |2019|$2,797,501,328 |\n",
            "|Star Wars: Episode VII - The Force Awakens   |2015|$2,069,521,700 |\n",
            "|Avengers: Infinity War                       |2018|$2,048,359,754 |\n",
            "|Spider-Man: No Way Home                      |2021|$1,901,218,408 |\n",
            "|Jurassic World                               |2015|$1,671,537,444 |\n",
            "|The Lion King                                |2019|$1,663,250,487 |\n",
            "|The Avengers                                 |2012|$1,518,815,515 |\n",
            "|Furious 7                                    |2015|$1,515,341,399 |\n",
            "|Frozen II                                    |2019|$1,450,026,933 |\n",
            "|Avengers: Age of Ultron                      |2015|$1,402,809,540 |\n",
            "|Black Panther                                |2018|$1,347,597,973 |\n",
            "|Harry Potter and the Deathly Hallows: Part 2 |2011|$1,342,359,942 |\n",
            "|Star Wars: Episode VIII - The Last Jedi      |2017|$1,332,698,830 |\n",
            "|Jurassic World: Fallen Kingdom               |2018|$1,310,466,296 |\n",
            "|Frozen                                       |2013|$1,281,508,100 |\n",
            "|Beauty and the Beast                         |2017|$1,273,576,220 |\n",
            "|Incredibles 2                                |2018|$1,243,089,244 |\n",
            "|The Fate of the Furious                      |2017|$1,236,005,118 |\n",
            "|Iron Man 3                                   |2013|$1,214,811,252 |\n",
            "|Minions                                      |2015|$1,159,444,662 |\n",
            "|Captain America: Civil War                   |2016|$1,153,337,496 |\n",
            "|Aquaman                                      |2018|$1,148,528,393 |\n",
            "|Spider-Man: Far from Home                    |2019|$1,131,927,996 |\n",
            "|Captain Marvel                               |2019|$1,128,462,972 |\n",
            "|Transformers: Dark of the Moon               |2011|$1,123,794,079 |\n",
            "|Skyfall                                      |2012|$1,108,569,499 |\n",
            "|Transformers: Age of Extinction              |2014|$1,104,054,072 |\n",
            "|The Dark Knight Rises                        |2012|$1,081,153,097 |\n",
            "|Joker                                        |2019|$1,074,445,730 |\n",
            "|Star Wars: Episode IX - The Rise of Skywalker|2019|$1,074,149,279 |\n",
            "|Toy Story 4                                  |2019|$1,073,394,593 |\n",
            "|Rogue One: A Star Wars Story                 |2016|$1,056,057,720 |\n",
            "|Aladdin                                      |2019|$1,050,693,953 |\n",
            "|Pirates of the Caribbean: On Stranger Tides  |2011|$1,045,713,802 |\n",
            "|Despicable Me 3                              |2017|$1,034,800,131 |\n",
            "|Finding Dory                                 |2016|$1,028,570,942 |\n",
            "|Zootopia                                     |2016|$1,024,121,104 |\n",
            "|The Hobbit: An Unexpected Journey            |2012|$1,017,030,651 |\n",
            "|Despicable Me 2                              |2013|$970,766,005   |\n",
            "|The Jungle Book                              |2016|$966,554,929   |\n",
            "|Jumanji: Welcome to the Jungle               |2017|$962,542,945   |\n",
            "|The Hobbit: The Battle of the Five Armies    |2014|$962,201,338   |\n",
            "|The Hobbit: The Desolation of Smaug          |2013|$959,027,992   |\n",
            "|Doctor Strange in the Multiverse of Madness  |2022|$935,883,660   |\n",
            "|Bohemian Rhapsody                            |2018|$910,809,311   |\n",
            "|The Battle at Lake Changjin                  |2021|$902,540,935   |\n",
            "|Spectre                                      |2015|$880,681,519   |\n",
            "|Spider-Man: Homecoming                       |2017|$880,166,924   |\n",
            "|Ice Age: Continental Drift                   |2012|$877,244,782   |\n",
            "|The Secret Life of Pets                      |2016|$875,458,631   |\n",
            "+---------------------------------------------+----+---------------+\n",
            "only showing top 50 rows\n",
            "\n"
          ]
        }
      ]
    }
  ]
}